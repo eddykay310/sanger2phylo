{
 "cells": [
  {
   "cell_type": "code",
   "execution_count": 1,
   "metadata": {},
   "outputs": [],
   "source": [
    "import os\n",
    "from Bio import SeqIO\n",
    "import shutil\n",
    "import subprocess\n",
    "import webbrowser\n",
    "\n",
    "\n",
    "# Converts files from abi to fasta\n",
    "baseDIR = os.getcwd()\n",
    "homeDIR = os.getcwd()\n",
    "sourcefiles = os.listdir(baseDIR)\n",
    "destinationpath = os.path.join(baseDIR, \"FASTA\")\n",
    "\n",
    "def abi2Fasta(folders):\n",
    "    \n",
    "    for homeDIR in folders:\n",
    "        counter = 0\n",
    "        \n",
    "        for filename in os.listdir(homeDIR):\n",
    "            \n",
    "            if filename.endswith(\".ab1\"):\n",
    "                # print(filename)\n",
    "                SeqIO.convert(os.path.join(homeDIR, filename), \"abi\", os.path.join(homeDIR, f\"{filename}.fasta\"), \"fasta\")\n",
    "                counter+=1\n",
    "        print (f\"{counter} files were converted\")\n",
    "\n",
    "        # Moves fasta files to created FASTA folder\n",
    "        destinationpath = os.path.join(homeDIR, \"FASTA\")\n",
    "        # print(destinationpath)\n",
    "        if not os.path.exists(destinationpath):\n",
    "            os.makedirs(destinationpath)\n",
    "\n",
    "        for file in os.listdir(homeDIR):\n",
    "            # print(file)\n",
    "            if file.endswith('.fasta'):\n",
    "                shutil.move(os.path.join(homeDIR,file), os.path.join(destinationpath,file))\n",
    "        print(\"\\nFASTA files moved to FASTA folder\")"
   ]
  },
  {
   "cell_type": "code",
   "execution_count": 8,
   "metadata": {},
   "outputs": [
    {
     "name": "stdout",
     "output_type": "stream",
     "text": [
      "\n",
      "FASTA files moved to FASTA folder\n",
      "\n",
      "FASTA files moved to FASTA folder\n",
      "\n",
      "FASTA files moved to FASTA folder\n",
      "\n",
      "FASTA files moved to FASTA folder\n"
     ]
    }
   ],
   "source": [
    "for filename in os.listdir(homeDIR):\n",
    "\n",
    "    if filename.endswith(\".ab1\"):\n",
    "        # print(filename)\n",
    "        SeqIO.convert(os.path.join(homeDIR, filename), \"abi\", os.path.join(homeDIR, f\"{filename}.fasta\"), \"fasta\")\n",
    "#         counter+=1\n",
    "#     print (f\"{counter} files were converted\")\n",
    "\n",
    "    # Moves fasta files to created FASTA folder\n",
    "    destinationpath = os.path.join(homeDIR, \"FASTA\")\n",
    "    # print(destinationpath)\n",
    "    if not os.path.exists(destinationpath):\n",
    "        os.makedirs(destinationpath)\n",
    "\n",
    "    for file in os.listdir(homeDIR):\n",
    "        # print(file)\n",
    "        if file.endswith('.fasta'):\n",
    "            shutil.move(os.path.join(homeDIR,file), os.path.join(destinationpath,file))\n",
    "    print(\"\\nFASTA files moved to FASTA folder\")"
   ]
  },
  {
   "cell_type": "code",
   "execution_count": 9,
   "metadata": {},
   "outputs": [],
   "source": [
    "from Bio import SeqIO\n",
    "record = SeqIO.parse(f\"A_forward.ab1\", \"abi\")\n",
    "print(f\"Starting with {record.id}\")\n",
    "count = SeqIO.write(record, \"A_forward.fastq\", \"fastq\")"
   ]
  },
  {
   "cell_type": "code",
   "execution_count": null,
   "metadata": {},
   "outputs": [],
   "source": [
    "seqHandle = SeqIO.parse(\"file.ab1\", \"abi\")\n",
    "\n",
    "for seq in seqHandle:\n",
    "    seqName = seq.id\n",
    "    seqStr = str(seq.seq)\n",
    "    seqQual = seq.letter_annotations[\"phred_quality\"]"
   ]
  },
  {
   "cell_type": "code",
   "execution_count": 12,
   "metadata": {
    "scrolled": true
   },
   "outputs": [
    {
     "name": "stdout",
     "output_type": "stream",
     "text": [
      "A TCGCCGCMTMGCWCTATGGAGGAGCCGCAGTMGATCCTAGCGTCGAGCCCCCTCTGAGTCAGGAAACATTTTCAGACCTATGGAAACTACTTCCTGAAAACAACGTTCTGTCCCCCTTGCCGTCCCAAGCAATGGATGATTTGATGCTGTCCCCGGACGATATTGAACAATGGTTCACTGAAGACCCAGGTCCAGATGAAGCTCCCAGAATGCCAGAGGCTGCTCCCCGCGTGGCCCCTGCACCAGCAGCTCCTACACCGGCGGCCCCTGCACCAGCCCCCTCCTGGCCCCTGTCATCTTCTGTCCCTTCCCAGAAAACCTACCAGGGCAGCTACGGTTTCCGTCTGGGCTTCTTGCATTCTGGGACAGCCAAGTCTGTGACTTGCACGTACTCCCCTGCCCTCAACAAGATGTTTTGCCAACTGGCCAAGACCTGCCCTGTGCAGCTGTGGGTTGATTCCACACCCCCGCCCGGCACCCGCGTCCGCGCCATGGCCATCTACAAGCAGTCACAGCACATGACGGAGGTTGTGAGGCGCTGCCCCCACCATGAGCGCTGCTCAGATAGCGATGGTCTGGCCCCTCCTCAGCATCTTATCCGAGTGGAAGGAAATTTGCGTGTGGAGTATTTGGATGACAGAAACACTTTTCGACATAGTGTGGTGGTGCCCTATGAGCCGCCTGAGGTTGGCTCTGACTGTACCACCATCCACTACAACTACATGTGTACAGTTCCTGCATGGGCGGCATGAACCGGAGGCCCATCCCTCMCCATCATCMCMMCTGGTARRACYTCCMRGTGGTTWAAT\n",
      "ID: A\n",
      "Name: A\n",
      "Description: A\n",
      "Number of features: 0\n",
      "Per letter annotation for: phred_quality\n",
      "Seq('TCGCCGCMTMGCWCTATGGAGGAGCCGCAGTMGATCCTAGCGTCGAGCCCCCTC...AAT')\n",
      "[7, 5, 5, 5, 5, 5, 5, 1, 13, 1, 5, 5, 1, 7, 18, 17, 28, 47, 39, 5, 5, 25, 10, 7, 58, 54, 25, 25, 28, 16, 54, 8, 54, 11, 14, 54, 54, 56, 55, 35, 54, 55, 54, 54, 46, 24, 23, 54, 54, 55, 55, 51, 54, 54, 58, 54, 24, 10, 55, 10, 9, 55, 54, 54, 41, 54, 36, 29, 56, 56, 55, 54, 13, 10, 46, 54, 54, 54, 55, 54, 56, 54, 54, 54, 55, 55, 54, 19, 33, 55, 55, 55, 54, 54, 54, 54, 54, 58, 58, 58, 46, 23, 54, 56, 56, 56, 58, 54, 55, 55, 54, 54, 54, 55, 58, 49, 55, 54, 54, 55, 54, 58, 54, 54, 54, 46, 39, 54, 54, 54, 54, 56, 55, 54, 54, 54, 54, 58, 55, 54, 56, 58, 58, 54, 54, 55, 55, 55, 55, 54, 55, 55, 55, 58, 55, 54, 35, 43, 55, 55, 54, 54, 55, 55, 58, 55, 55, 54, 54, 54, 54, 54, 55, 55, 55, 36, 54, 54, 54, 55, 54, 54, 35, 54, 54, 41, 54, 54, 55, 55, 58, 54, 54, 54, 46, 54, 54, 55, 55, 55, 54, 55, 54, 58, 55, 54, 55, 39, 54, 55, 58, 54, 56, 54, 54, 37, 25, 24, 51, 55, 54, 55, 54, 54, 58, 55, 55, 58, 55, 54, 55, 55, 58, 56, 54, 54, 55, 55, 54, 55, 55, 56, 54, 54, 54, 55, 54, 58, 55, 54, 54, 58, 58, 55, 55, 55, 55, 54, 54, 56, 55, 58, 55, 55, 54, 54, 58, 56, 54, 55, 55, 55, 54, 54, 54, 55, 55, 54, 58, 58, 55, 55, 55, 56, 55, 55, 54, 56, 54, 55, 55, 55, 55, 54, 54, 54, 54, 55, 58, 55, 54, 55, 55, 54, 54, 56, 56, 55, 55, 55, 55, 54, 54, 24, 25, 41, 55, 55, 54, 54, 55, 58, 54, 54, 54, 55, 51, 54, 54, 54, 54, 54, 54, 54, 54, 55, 58, 55, 56, 58, 58, 56, 54, 54, 56, 55, 55, 56, 56, 55, 54, 58, 58, 58, 58, 56, 58, 56, 56, 56, 56, 56, 56, 58, 54, 54, 55, 54, 54, 54, 54, 54, 55, 54, 55, 55, 55, 54, 54, 55, 54, 54, 54, 55, 55, 58, 58, 54, 54, 58, 55, 54, 55, 58, 55, 58, 58, 58, 56, 54, 54, 56, 58, 54, 54, 55, 55, 55, 55, 46, 54, 54, 51, 55, 55, 55, 55, 54, 54, 54, 27, 54, 54, 54, 58, 58, 54, 31, 30, 54, 39, 54, 54, 54, 56, 54, 54, 54, 54, 58, 54, 54, 54, 56, 54, 54, 54, 54, 54, 54, 58, 56, 58, 56, 54, 54, 56, 54, 54, 58, 36, 35, 58, 58, 54, 52, 58, 56, 56, 52, 52, 56, 56, 56, 56, 56, 56, 52, 56, 53, 51, 51, 52, 56, 58, 58, 35, 48, 52, 51, 48, 48, 58, 56, 58, 51, 28, 29, 56, 56, 51, 56, 56, 56, 56, 52, 48, 47, 56, 56, 34, 30, 56, 51, 58, 56, 56, 58, 56, 58, 56, 51, 51, 56, 56, 48, 32, 51, 56, 56, 56, 48, 51, 56, 56, 51, 48, 44, 48, 51, 45, 32, 51, 56, 58, 47, 37, 34, 31, 32, 58, 56, 43, 38, 58, 33, 51, 51, 56, 36, 51, 28, 28, 25, 31, 31, 47, 56, 43, 36, 42, 50, 43, 51, 44, 58, 58, 51, 52, 39, 51, 52, 51, 50, 50, 47, 39, 26, 30, 21, 44, 43, 52, 52, 52, 30, 50, 35, 52, 41, 31, 28, 15, 38, 40, 52, 38, 50, 17, 51, 51, 51, 34, 31, 51, 44, 39, 33, 33, 47, 52, 37, 50, 52, 33, 33, 23, 25, 37, 51, 39, 44, 38, 28, 29, 37, 37, 29, 27, 44, 51, 51, 24, 34, 28, 39, 50, 34, 26, 29, 28, 30, 33, 29, 25, 33, 33, 19, 32, 50, 31, 47, 39, 35, 44, 35, 36, 30, 22, 51, 50, 27, 33, 28, 30, 32, 11, 47, 39, 28, 21, 35, 25, 33, 35, 35, 25, 33, 35, 32, 35, 30, 35, 27, 29, 27, 14, 18, 19, 23, 13, 14, 35, 26, 25, 31, 26, 13, 26, 23, 17, 28, 29, 28, 21, 31, 16, 17, 32, 14, 17, 41, 15, 28, 30, 23, 19, 7, 16, 4, 12, 9, 18, 21, 7, 16, 15, 27, 22, 16, 16, 22, 42, 24, 12, 12, 22, 15, 19, 15, 11, 16, 13, 22, 27, 13, 23, 5, 7, 19, 22, 42, 23, 8, 21, 17, 36, 13, 10, 9, 1, 19, 26, 23, 21, 8, 7, 32, 11, 1, 13, 1, 1, 23, 12, 21, 5, 7, 5, 1, 1, 7, 7, 1, 10, 9, 10, 1, 1, 3, 10, 14, 23, 4, 7, 1, 9, 12, 6]\n"
     ]
    }
   ],
   "source": [
    "for record in SeqIO.parse(\"A_forward.fastq\", \"fastq\"):\n",
    "    print(\"%s %s\" % (record.id, record.seq))\n",
    "    print(record)\n",
    "    print(record.letter_annotations[\"phred_quality\"])"
   ]
  },
  {
   "cell_type": "code",
   "execution_count": 76,
   "metadata": {},
   "outputs": [],
   "source": [
    "print('Trimming reads below phred score of 20')\n",
    "seq = record.letter_annotations[\"phred_quality\"]\n",
    "window_size = 3\n",
    "selected={}\n",
    "for i in range(len(seq) - window_size + 1):\n",
    "    current_window = seq[i: i + window_size]\n",
    "    if sum(current_window)/window_size >= 20:\n",
    "        selected[current_window[-1]] = i+window_size-1\n",
    "#         print(record.seq[current_window[-1]])\n",
    "        break\n",
    "for i in reversed(range(len(seq) - window_size + 1)):\n",
    "    current_window = seq[i: i + window_size]\n",
    "    if sum(current_window)/window_size >= 20:\n",
    "        selected[current_window[-1]] = i+window_size-1\n",
    "#         print(record.seq[current_window[-1]])\n",
    "        break\n",
    "selected_list = list(selected.keys())\n",
    "selected_seq = record.seq[selected_list[0]:len(record.seq)-selected_list[1]-1]"
   ]
  },
  {
   "cell_type": "code",
   "execution_count": 77,
   "metadata": {},
   "outputs": [],
   "source": [
    "from Bio.Blast import NCBIWWW\n",
    "from Bio.Blast import NCBIXML"
   ]
  },
  {
   "cell_type": "code",
   "execution_count": 80,
   "metadata": {},
   "outputs": [
    {
     "ename": "TypeError",
     "evalue": "'_io.StringIO' object is not callable",
     "output_type": "error",
     "traceback": [
      "\u001b[1;31m---------------------------------------------------------------------------\u001b[0m",
      "\u001b[1;31mTypeError\u001b[0m                                 Traceback (most recent call last)",
      "\u001b[1;32m<ipython-input-80-a48bfa167abc>\u001b[0m in \u001b[0;36m<module>\u001b[1;34m\u001b[0m\n\u001b[0;32m      7\u001b[0m                         \u001b[0mgenetic_code\u001b[0m\u001b[1;33m=\u001b[0m\u001b[1;36m1\u001b[0m\u001b[1;33m,\u001b[0m\u001b[1;33m\u001b[0m\u001b[1;33m\u001b[0m\u001b[0m\n\u001b[0;32m      8\u001b[0m                       entrez_query=\"txid5654[ORGN]\")\n\u001b[1;32m----> 9\u001b[1;33m \u001b[0mstdout\u001b[0m\u001b[1;33m,\u001b[0m \u001b[0mstderr\u001b[0m \u001b[1;33m=\u001b[0m \u001b[0mresult\u001b[0m\u001b[1;33m(\u001b[0m\u001b[1;33m)\u001b[0m\u001b[1;33m\u001b[0m\u001b[1;33m\u001b[0m\u001b[0m\n\u001b[0m",
      "\u001b[1;31mTypeError\u001b[0m: '_io.StringIO' object is not callable"
     ]
    }
   ],
   "source": [
    "result = NCBIWWW.qblast(program=\"blastn\",\n",
    "                        database=\"nr\",\n",
    "                        sequence=selected_seq,\n",
    "                        ncbi_gi=True,\n",
    "                        format_type=\"XML\",\n",
    "                        hitlist_size=10,\n",
    "                        genetic_code=1,\n",
    "                      entrez_query=\"txid5654[ORGN]\")"
   ]
  },
  {
   "cell_type": "code",
   "execution_count": 81,
   "metadata": {},
   "outputs": [],
   "source": [
    "save_xml = open(\"result.xml\", \"w\")\n",
    "save_xml.write(result.read())\n",
    "save_xml.close()"
   ]
  },
  {
   "cell_type": "code",
   "execution_count": 92,
   "metadata": {
    "scrolled": true
   },
   "outputs": [
    {
     "name": "stdout",
     "output_type": "stream",
     "text": [
      "****Alignment****\n",
      "sequence: gi|1002449808|ref|XM_015801976.1| Leptomonas pyrrhocoris hypothetical protein mRNA\n",
      "length: 2083\n",
      "score: 47.0\n",
      "gaps: 0\n",
      "e-value: 0.10991\n",
      "CACCGGCGGCCCCTGCACCAGCCCCC\n",
      "|||||||||||||||| |||||||||\n",
      "CACCGGCGGCCCCTGCTCCAGCCCCC\n",
      "****Alignment****\n",
      "sequence: gi|1002458271|ref|XM_015797676.1| Leptomonas pyrrhocoris hypothetical protein mRNA\n",
      "length: 1935\n",
      "score: 45.0\n",
      "gaps: 1\n",
      "e-value: 0.383622\n",
      "CCGCGTGGCCCCTGCACCAGCAGCTCCTACAC\n",
      "||||| |||| |||||||||||||||| ||||\n",
      "CCGCG-GGCCGCTGCACCAGCAGCTCCGACAC\n",
      "****Alignment****\n",
      "sequence: gi|1371035981|gb|CP027838.1| Leishmania infantum strain TR01 isolate Lin_TR01 chromosome 5, complete sequence\n",
      "length: 450635\n",
      "score: 41.0\n",
      "gaps: 0\n",
      "e-value: 4.67348\n",
      "TCCCCGCGTGGCCCCTGCACCAG\n",
      "|||||||||||||||||| ||||\n",
      "TCCCCGCGTGGCCCCTGCGCCAG\n",
      "****Alignment****\n",
      "sequence: gi|1371035981|gb|CP027838.1| Leishmania infantum strain TR01 isolate Lin_TR01 chromosome 5, complete sequence\n",
      "length: 450635\n",
      "score: 41.0\n",
      "gaps: 0\n",
      "e-value: 4.67348\n",
      "TCCCCGCGTGGCCCCTGCACCAG\n",
      "|||||||||||||||||| ||||\n",
      "TCCCCGCGTGGCCCCTGCGCCAG\n",
      "****Alignment****\n",
      "sequence: gi|686634514|ref|XM_009311428.1| Trypanosoma grayi hypothetical protein partial mRNA\n",
      "length: 1134\n",
      "score: 41.0\n",
      "gaps: 0\n",
      "e-value: 4.67348\n",
      "TACTCCCCTGCCCTCAACAAGATGTTTT\n",
      "||||||||||||| | ||||| ||||||\n",
      "TACTCCCCTGCCCACGACAAGGTGTTTT\n",
      "****Alignment****\n",
      "sequence: gi|686630798|ref|XM_009309570.1| Trypanosoma grayi putative NADH-cytochrome b5 reductase partial mRNA\n",
      "length: 909\n",
      "score: 41.0\n",
      "gaps: 0\n",
      "e-value: 4.67348\n",
      "GGCCCCTGCACCAGCAGCTCCTACACCGGCGGC\n",
      "||||||| |||||||||||||| | | ||| ||\n",
      "GGCCCCTTCACCAGCAGCTCCTCCCCGGGCTGC\n",
      "****Alignment****\n",
      "sequence: gi|2129715311|gb|CP086043.1| Leishmania major breed Culture 1 isolate GRCGR_LM-01 chromosome 20\n",
      "length: 742536\n",
      "score: 40.0\n",
      "gaps: 0\n",
      "e-value: 4.67348\n",
      "TGGCCCCTGTCATCTTCTGTCCCTT\n",
      "||||  |||||||||||||||||||\n",
      "TGGCGTCTGTCATCTTCTGTCCCTT\n",
      "****Alignment****\n",
      "sequence: gi|2105479549|emb|OU755554.1| Leishmania major strain Friedlin genome assembly, chromosome: 20\n",
      "length: 737675\n",
      "score: 40.0\n",
      "gaps: 0\n",
      "e-value: 4.67348\n",
      "TGGCCCCTGTCATCTTCTGTCCCTT\n",
      "||||  |||||||||||||||||||\n",
      "TGGCGTCTGTCATCTTCTGTCCCTT\n",
      "****Alignment****\n",
      "sequence: gi|1899071072|gb|CP048176.1| Leishmania chagasi strain MCER/BR/1981/M6445/Salvaterra isolate M6445 chromosome 13\n",
      "length: 645773\n",
      "score: 40.0\n",
      "gaps: 4\n",
      "e-value: 4.67348\n",
      "CCCCTGCACCAGCCCCCTCCTGGCCCCTGTCATCTTCTG---TCCCTT\n",
      "|| |||||| |||||||||||  |||||  | |||||||   ||||||\n",
      "CCTCTGCACAAGCCCCCTCCT-CCCCCTTACCTCTTCTGCTCTCCCTT\n",
      "****Alignment****\n",
      "sequence: gi|1899071036|gb|CP048140.1| Leishmania chagasi strain MHOM/HD/2017/M32502/Amapala isolate M32502 chromosome 13\n",
      "length: 645862\n",
      "score: 40.0\n",
      "gaps: 4\n",
      "e-value: 4.67348\n",
      "CCCCTGCACCAGCCCCCTCCTGGCCCCTGTCATCTTCTG---TCCCTT\n",
      "|| |||||| |||||||||||  |||||  | |||||||   ||||||\n",
      "CCTCTGCACAAGCCCCCTCCT-CCCCCTTACCTCTTCTGCTCTCCCTT\n",
      "****Alignment****\n",
      "sequence: gi|1862859478|emb|LR812946.1| Leishmania infantum genome assembly, chromosome: 13\n",
      "length: 659814\n",
      "score: 40.0\n",
      "gaps: 4\n",
      "e-value: 4.67348\n",
      "CCCCTGCACCAGCCCCCTCCTGGCCCCTGTCATCTTCTG---TCCCTT\n",
      "|| |||||| |||||||||||  |||||  | |||||||   ||||||\n",
      "CCTCTGCACAAGCCCCCTCCT-CCCCCTTACCTCTTCTGCTCTCCCTT\n"
     ]
    }
   ],
   "source": [
    "save_xml = open(\"result.xml\", \"r\")\n",
    "blast_records = NCBIXML.parse(save_xml)\n",
    "\n",
    "with open(f\"{record.id}.tsv\", \"w\") as opened_tsv:\n",
    "    opened_tsv.write(\"hit_name\\thit_length\\talignment_score\\tgaps\\te-value\\n\")\n",
    "    for blast_record in blast_records:\n",
    "        for alignment in blast_record.alignments:\n",
    "            for hsp in alignment.hsps:\n",
    "                print('****Alignment****')\n",
    "                print('sequence:', alignment.title)\n",
    "                print('length:', alignment.length)\n",
    "                print('score:', hsp.score)\n",
    "                print('gaps:', hsp.gaps)\n",
    "                print('e-value:', hsp.expect)\n",
    "                print(hsp.query)\n",
    "                print(hsp.match)\n",
    "                print(hsp.sbjct)\n",
    "                opened_tsv.write(f\"{alignment.title}\\t{alignment.length}\\t{hsp.score}\\t{hsp.gaps}\\t\\\n",
    "                                {hsp.query}\\t{hsp.match}\\t{hsp.sbjct}\\n\")\n",
    "save_xml.close()"
   ]
  },
  {
   "cell_type": "code",
   "execution_count": 93,
   "metadata": {},
   "outputs": [
    {
     "data": {
      "text/plain": [
       "'C:\\\\Users\\\\DELL\\\\Downloads\\\\ITSAC'"
      ]
     },
     "execution_count": 93,
     "metadata": {},
     "output_type": "execute_result"
    }
   ],
   "source": [
    "os.getcwd()"
   ]
  },
  {
   "cell_type": "code",
   "execution_count": 1,
   "metadata": {},
   "outputs": [],
   "source": [
    "import sys\n",
    "import os\n",
    "from Bio import SeqIO\n",
    "from Bio.Blast import NCBIWWW\n",
    "from Bio.Blast import NCBIXML"
   ]
  },
  {
   "cell_type": "code",
   "execution_count": 4,
   "metadata": {
    "scrolled": true
   },
   "outputs": [
    {
     "name": "stdout",
     "output_type": "stream",
     "text": [
      "C:\\Users\\DELL\\Downloads\\ITSAC\\2020-09-22_C04_AM27H.ab1\n",
      "['C:\\\\Users\\\\DELL\\\\Downloads\\\\ITSAC\\\\2020-09-22_C04_AM27H.fastq']\n",
      "Starting with AM27H\n",
      "Trimming reads below phred score of 20\n",
      "Number of bases chopped from 5' end => 17\n",
      "Number of bases chopped from 3' end => 1\n",
      "writing to opened_tsv\n",
      "writing to best_opened_tsv\n",
      "1\n",
      "writing to opened_tsv\n",
      "2\n",
      "writing to opened_tsv\n",
      "3\n",
      "writing to opened_tsv\n",
      "4\n",
      "writing to opened_tsv\n",
      "5\n",
      "writing to opened_tsv\n",
      "6\n",
      "writing to opened_tsv\n",
      "7\n",
      "writing to opened_tsv\n",
      "8\n",
      "writing to opened_tsv\n",
      "9\n",
      "writing to opened_tsv\n",
      "10\n",
      "writing to opened_tsv\n",
      "11\n",
      "writing to opened_tsv\n",
      "12\n",
      "writing to opened_tsv\n",
      "13\n",
      "writing to opened_tsv\n",
      "14\n",
      "{'AM27H': 'GGGTGATCGGCTCCTACCAAGCGATCAAGCACAAGCTTGCCGATGTCCATATCGCGATCGAGCTGGCCCGTCCGCTGGTACACGGCGCGGCATTGTCGCTGCAACCCCGCGATGTCAGCGCCGCCAAGGTCGCCGCTGGCGGCGCGGCCCGGCTGGCGGCTCGCAGCGCGTTGCAGACCCACGGTGCTATCGGGTTTACCCAGGAACACGACCTGTCGCTGTGGCTGCTGCGAGTGCAGGCGTTGCGTTCGGCGTGGGGTACACCAGAAGTACACCGGCGGCGGGTGCTCGAGGCGCTATGACCCCCGCCGGCGACGATGGGCAGCGCAGCGATGAGAAGGAGCGGCGGCGATGACCGAAGAGCGCGA'}\n"
     ]
    },
    {
     "ename": "TypeError",
     "evalue": "'builtin_function_or_method' object is not iterable",
     "output_type": "error",
     "traceback": [
      "\u001b[1;31m---------------------------------------------------------------------------\u001b[0m",
      "\u001b[1;31mTypeError\u001b[0m                                 Traceback (most recent call last)",
      "\u001b[1;32m<ipython-input-4-3c9e63e17e49>\u001b[0m in \u001b[0;36m<module>\u001b[1;34m\u001b[0m\n\u001b[0;32m     82\u001b[0m \u001b[1;33m\u001b[0m\u001b[0m\n\u001b[0;32m     83\u001b[0m \u001b[0mprint\u001b[0m\u001b[1;33m(\u001b[0m\u001b[0mrecords_dict\u001b[0m\u001b[1;33m)\u001b[0m\u001b[1;33m\u001b[0m\u001b[1;33m\u001b[0m\u001b[0m\n\u001b[1;32m---> 84\u001b[1;33m \u001b[1;32mfor\u001b[0m \u001b[0mitem\u001b[0m \u001b[1;32min\u001b[0m \u001b[0mrecords_dict\u001b[0m\u001b[1;33m.\u001b[0m\u001b[0mitems\u001b[0m\u001b[1;33m:\u001b[0m\u001b[1;33m\u001b[0m\u001b[1;33m\u001b[0m\u001b[0m\n\u001b[0m\u001b[0;32m     85\u001b[0m     \u001b[0mall_seq_fasta\u001b[0m\u001b[1;33m.\u001b[0m\u001b[0mwrite\u001b[0m\u001b[1;33m(\u001b[0m\u001b[1;34mf\">{item.key}\\n{item.value}\\n\"\u001b[0m\u001b[1;33m)\u001b[0m\u001b[1;33m\u001b[0m\u001b[1;33m\u001b[0m\u001b[0m\n\u001b[0;32m     86\u001b[0m \u001b[0mall_seq_fasta\u001b[0m\u001b[1;33m.\u001b[0m\u001b[0mclose\u001b[0m\u001b[1;33m(\u001b[0m\u001b[1;33m)\u001b[0m\u001b[1;33m\u001b[0m\u001b[1;33m\u001b[0m\u001b[0m\n",
      "\u001b[1;31mTypeError\u001b[0m: 'builtin_function_or_method' object is not iterable"
     ]
    }
   ],
   "source": [
    "input_path = os.getcwd()\n",
    "\n",
    "file_list = []\n",
    "for file in os.listdir(input_path):\n",
    "    if file.endswith(\".ab1\"):\n",
    "        print(os.path.join(input_path, file))\n",
    "        file_path = os.path.join(input_path, file)\n",
    "        file_name = file_path.split(\"\\\\\")[-1]\n",
    "        name = file_name.split(\".\")[0]\n",
    "        fastq_name = f\"{name}.fastq\"\n",
    "        rest_of_path = file_path.rsplit(\"\\\\\",1)[0]\n",
    "        file_list.append(rest_of_path+\"\\\\\"+fastq_name)\n",
    "        SeqIO.convert(file_name, \"abi\", fastq_name,\"fastq\")\n",
    "print(file_list)\n",
    "\n",
    "records = []\n",
    "for f in file_list:\n",
    "    for record in SeqIO.parse(f, \"fastq\"):\n",
    "        records.append(record)\n",
    "SeqIO.write(records, \"all_seqs.fastq\", 'fastq')\n",
    "\n",
    "records_dict = {}\n",
    "best_opened_tsv = open(f\"best_hits_per_seq.tsv\", \"a\") \n",
    "all_seq_fasta = open(\"all_seqs.fasta\", 'w')\n",
    "best_opened_tsv.write(\"sample_ID\\thit_name\\thit_length\\talignment_score\\tgaps\\te-value\\tquery_seq\\tmatches\\tsubject_seq\\n\")\n",
    "\n",
    "for record in SeqIO.parse(\"all_seqs.fastq\", \"fastq\"):\n",
    "    print(f\"Starting with {record.id}\")\n",
    "    print('Trimming reads below phred score of 20')\n",
    "    seq = record.letter_annotations[\"phred_quality\"]\n",
    "    window_size = 3\n",
    "    selected={}\n",
    "    for i in range(len(seq) - window_size + 1):\n",
    "        current_window = seq[i: i + window_size]\n",
    "        if sum(current_window)/window_size >= 20:\n",
    "            selected[current_window[-1]] = i+window_size-1\n",
    "    #         print(record.seq[current_window[-1]])\n",
    "            print(\"Number of bases chopped from 5' end =>\",len(seq[:i+window_size-1]))\n",
    "            break\n",
    "    for i in reversed(range(len(seq) - window_size + 1)):\n",
    "        current_window = seq[i: i + window_size]\n",
    "        if sum(current_window)/window_size >= 20:\n",
    "            selected[current_window[-1]] = i+window_size-1\n",
    "    #         print(record.seq[current_window[-1]])\n",
    "            print(\"Number of bases chopped from 3' end =>\",len(seq)-len(seq[:i+window_size-1]))\n",
    "            break\n",
    "\n",
    "    selected_list = list(selected.keys())\n",
    "    selected_seq = record.seq[selected_list[0]:len(record.seq)-selected_list[1]-1]\n",
    "    records_dict[record.id] = str(selected_seq)\n",
    "\n",
    "    result = NCBIWWW.qblast(program=\"blastn\",\n",
    "                        database=\"nr\",\n",
    "                        sequence=selected_seq,\n",
    "                        ncbi_gi=True,\n",
    "                        format_type=\"XML\",\n",
    "                        hitlist_size=10,\n",
    "                        genetic_code=1,\n",
    "                      entrez_query=\"txid5654[ORGN]\")\n",
    "    save_xml = open(f\"{record.id}_blast_result.xml\", \"w\")\n",
    "    save_xml.write(result.read())\n",
    "\n",
    "    save_xml = open(f\"{record.id}_blast_result.xml\", \"r\")\n",
    "    blast_records = NCBIXML.parse(save_xml)\n",
    "\n",
    "    with open(f\"{record.id}.tsv\", \"w\") as opened_tsv:\n",
    "        opened_tsv.write(\"hit_name\\thit_length\\talignment_score\\tgaps\\te-value\\tquery_seq\\tmatches\\tsubject_seq\\n\")\n",
    "        counter = 0\n",
    "        for blast_record in blast_records:\n",
    "            for alignment in blast_record.alignments:\n",
    "                for hsp in alignment.hsps:\n",
    "                    print(\"writing to opened_tsv\")\n",
    "                    opened_tsv.write(f\"{alignment.title}\\t{alignment.length}\\t{hsp.score}\\t{hsp.gaps}\\t{hsp.expect}\\t{hsp.query}\\t{hsp.match}\\t{hsp.sbjct}\\n\")\n",
    "                    if counter == 0:\n",
    "                        print(\"writing to best_opened_tsv\")\n",
    "                        best_opened_tsv.write(f\"{record.id}\\t{alignment.title}\\t{alignment.length}\\t{hsp.score}\\t{hsp.gaps}\\t{hsp.expect}\\t{hsp.query}\\t{hsp.match}\\t{hsp.sbjct}\\n\")\n",
    "                    counter+=1\n",
    "                    print(counter)\n",
    "        opened_tsv.close()\n",
    "    save_xml.close()\n",
    "best_opened_tsv.close()\n",
    "\n",
    "print(records_dict)\n",
    "for item in records_dict.items:\n",
    "    all_seq_fasta.write(f\">{item.key}\\n{item.value}\\n\")\n",
    "all_seq_fasta.close()\n",
    "print(\"done\")"
   ]
  },
  {
   "cell_type": "code",
   "execution_count": null,
   "metadata": {},
   "outputs": [],
   "source": []
  }
 ],
 "metadata": {
  "kernelspec": {
   "display_name": "Python 3",
   "language": "python",
   "name": "python3"
  },
  "language_info": {
   "codemirror_mode": {
    "name": "ipython",
    "version": 3
   },
   "file_extension": ".py",
   "mimetype": "text/x-python",
   "name": "python",
   "nbconvert_exporter": "python",
   "pygments_lexer": "ipython3",
   "version": "3.8.5"
  }
 },
 "nbformat": 4,
 "nbformat_minor": 4
}
